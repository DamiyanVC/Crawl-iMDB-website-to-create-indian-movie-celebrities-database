{
 "cells": [
  {
   "cell_type": "code",
   "execution_count": 11,
   "metadata": {},
   "outputs": [],
   "source": [
    "from bs4 import BeautifulSoup as soup\n",
    "from urllib.request import urlopen"
   ]
  },
  {
   "cell_type": "code",
   "execution_count": 12,
   "metadata": {},
   "outputs": [],
   "source": [
    "#url to scrape\n",
    "url = 'https://www.imdb.com/list/ls025929404/'"
   ]
  },
  {
   "cell_type": "code",
   "execution_count": 13,
   "metadata": {},
   "outputs": [
    {
     "name": "stdout",
     "output_type": "stream",
     "text": [
      "<class 'http.client.HTTPResponse'>\n"
     ]
    }
   ],
   "source": [
    "data = urlopen(url)\n",
    "print(type(data))"
   ]
  },
  {
   "cell_type": "code",
   "execution_count": 14,
   "metadata": {},
   "outputs": [],
   "source": [
    "data_html = data.read()\n",
    "#print(data_html)"
   ]
  },
  {
   "cell_type": "code",
   "execution_count": 15,
   "metadata": {},
   "outputs": [],
   "source": [
    "#parsing html\n",
    "data_soup = soup(data_html,'html.parser')\n",
    "#print(data_soup.prettify())"
   ]
  },
  {
   "cell_type": "code",
   "execution_count": 16,
   "metadata": {},
   "outputs": [
    {
     "name": "stdout",
     "output_type": "stream",
     "text": [
      "100\n"
     ]
    }
   ],
   "source": [
    "#extracting region of interest\n",
    "labels = data_soup.findAll('div',{'class':'lister-item mode-detail'})\n",
    "print(len(labels))"
   ]
  },
  {
   "cell_type": "code",
   "execution_count": 17,
   "metadata": {},
   "outputs": [],
   "source": [
    "import pymongo"
   ]
  },
  {
   "cell_type": "code",
   "execution_count": 8,
   "metadata": {},
   "outputs": [],
   "source": [
    "#database connectivity\n",
    "myclient = pymongo.MongoClient(\"mongodb://localhost:27017/\")\n",
    "#create database\n",
    "mydb = myclient[\"moviecelebrities\"]"
   ]
  },
  {
   "cell_type": "code",
   "execution_count": 9,
   "metadata": {},
   "outputs": [],
   "source": [
    "#create collection\n",
    "mycol = mydb[\"info\"]"
   ]
  },
  {
   "cell_type": "code",
   "execution_count": 10,
   "metadata": {},
   "outputs": [],
   "source": [
    "for label in labels:\n",
    "    cnt = 0\n",
    "    img_ = label.img.attrs['src']\n",
    "    #create list of scraped images\n",
    "    x = list(img_.split(\" \"))\n",
    "    \n",
    "    name = label.img.attrs['alt']\n",
    "    #create list of scraped names\n",
    "    n = list(name.split(\"\\0\"))\n",
    "    \n",
    "    about = label.findAll('p',{})\n",
    "    #information about the celeb\n",
    "    about = about[1].text.strip()\n",
    "    #dict element to insert data inside databse\n",
    "    mydict = {\"name\":n[cnt],\"image\":x[cnt],\"about\":about}\n",
    "    \n",
    "    mycol.insert_one(mydict)\n",
    "    \n",
    "    cnt = cnt+1"
   ]
  },
  {
   "cell_type": "code",
   "execution_count": null,
   "metadata": {},
   "outputs": [],
   "source": []
  }
 ],
 "metadata": {
  "kernelspec": {
   "display_name": "Python 3",
   "language": "python",
   "name": "python3"
  },
  "language_info": {
   "codemirror_mode": {
    "name": "ipython",
    "version": 3
   },
   "file_extension": ".py",
   "mimetype": "text/x-python",
   "name": "python",
   "nbconvert_exporter": "python",
   "pygments_lexer": "ipython3",
   "version": "3.7.4"
  }
 },
 "nbformat": 4,
 "nbformat_minor": 4
}
